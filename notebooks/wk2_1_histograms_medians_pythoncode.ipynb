{
 "cells": [
  {
   "cell_type": "markdown",
   "source": "### Histograms and Medians from Differential Privacy\n\nIn this notebook we extend the basic building blocks to show how release histograms and an exponential mechanism for releasing medians.\n\nWe'll first build an algorithm for releasing DP medians by postprocessing a DP histogram:",
   "metadata": {
    "tags": [],
    "cell_id": "ad7d548e-5e7e-4bbe-9f8b-d371cac62d04",
    "owner_user_id": "626e04f9-1867-484e-ab97-aee98b9bd886",
    "deepnote_cell_type": "markdown",
    "deepnote_cell_height": 158
   }
  },
  {
   "cell_type": "markdown",
   "source": "Here are some previous functions we want to reuse:",
   "metadata": {
    "cell_id": "25173d0eac0e4ddc8ee7133683644791",
    "tags": [],
    "deepnote_cell_type": "markdown",
    "deepnote_cell_height": 52
   }
  },
  {
   "cell_type": "code",
   "metadata": {
    "cell_id": "167a667dbfd542e985ef1e255ba8691d",
    "tags": [],
    "deepnote_to_be_reexecuted": false,
    "source_hash": "3663ef7c",
    "execution_start": 1649948082764,
    "execution_millis": 44,
    "deepnote_cell_type": "code",
    "deepnote_cell_height": 1863
   },
   "source": "import numpy as np\nnp.random.seed(1234)\n\n\ndef laplace(shift=0., scale=1., size=None):\n    \"\"\"Sample from the laplace distribution.\"\"\"\n    p = np.random.uniform(low=-0.5, high=0.5, size=size)\n    draws = shift - scale * np.sign(p) * np.log(1 - 2 * abs(p))\n    return draws\n\n    # the easy way\n    # return np.random.laplace(loc=shift, scale=scale, size=size)\n\n\ndef gaussian(shift=0., scale=1., size=None):\n    \"\"\"Sample from the Gaussian distribution.\"\"\"\n    draws = np.random.normal(loc=shift, scale=scale, size=size)\n    return draws\n\n\ndef bernoulli(p, size=None):\n    return np.random.uniform(size=size) < p\n\n\ndef discrete_laplace(loc, scale):\n    if not scale:\n        return loc\n    alpha = np.exp(-1 / scale)\n\n    noise = 0 if bernoulli(p=(1 - alpha) / (1 + alpha)) else np.random.geometric(1 - alpha)\n    if bernoulli(p=0.5):\n        noise *= -1\n    return loc + noise\n\n\ndef cond_laplace(shift, scale):\n    \"\"\"Conditionally sample from laplace or discrete laplace depending on the dtype of `shift`\"\"\"\n    if np.issubdtype(type(shift), np.integer):\n        return discrete_laplace(shift, scale)\n    if np.issubdtype(type(shift), np.float):\n        return np.random.laplace(shift, scale)\n    else:\n        raise ValueError(f\"unrecognized type {type(low)}\")\n    \n\ndef cond_uniform(low, high):\n    \"\"\"Conditionally sample from discrete or continuous uniform based on the dtype of `low`\"\"\"\n    if np.issubdtype(type(low), np.integer):\n        return low if low == high else np.random.randint(low, high)\n    if np.issubdtype(type(low), np.float):\n        return np.random.uniform(low, high)\n    else:\n        raise ValueError(f\"unrecognized type {type(low)}\")\n\n\ndef clamp(x, bounds):\n    \"\"\"Replace any x_i less than lower with lower, \n           and any x_i greater than upper with upper.\"\"\"\n    return np.clip(x, *bounds)\n\n\ndef bounded_mean(x, bounds):\n    x_clamped = clamp(x, bounds)\n    return np.mean(x_clamped)\n\n\ndef release_dp_mean(x, bounds, epsilon, delta=1e-6, mechanism=\"laplace\"):\n    \"\"\"Release a DP mean. \n    Assumes that the dataset size n is public information.\n    \"\"\"\n    sensitive_mean = bounded_mean(x, bounds)\n\n    n = len(x)\n    lower, upper = bounds\n    # Sensitivity in terms of an absolute distance metric\n    # Both the laplace and gaussian mechanisms can noise queries\n    #    with sensitivities expressed in absolute distances\n    sensitivity = (upper - lower) / n\n    \n    if mechanism == \"laplace\":\n        scale = sensitivity / epsilon\n        dp_mean = sensitive_mean + laplace(scale=scale)\n    elif mechanism == \"gaussian\":\n        scale = (sensitivity / epsilon) * np.sqrt(2*np.log(2/delta)) \n        dp_mean = sensitive_mean + gaussian(scale=scale)\n    else:\n        raise ValueError(f\"unrecognized mechanism: {mechanism}\")\n\n    return dp_mean\n\n    # the compact way\n    # return laplace(shift=mean(x_clamped(x)), scale=(upper-lower)/(n*epsilon))\n    # return gaussian(shift=mean(x_clamped(x)), scale=(upper-lower)/(n*epsilon))\n    \n\ndef bootstrap(x, n):\n    \"\"\"Sample n values with replacement from n.\"\"\"\n    index = np.random.randint(low=0., high=len(x), size=n)\n    return x[index]\n",
   "execution_count": 1,
   "outputs": []
  },
  {
   "cell_type": "markdown",
   "source": "Here is a DP Histogram function:",
   "metadata": {
    "cell_id": "5ec3c17b0f43413a99a7d30e624948ec",
    "tags": [],
    "deepnote_cell_type": "markdown",
    "deepnote_cell_height": 52
   }
  },
  {
   "cell_type": "code",
   "metadata": {
    "cell_id": "c327bb8d51f54f37873c686765899b36",
    "tags": [],
    "deepnote_to_be_reexecuted": false,
    "source_hash": "8c9f0422",
    "execution_start": 1649948082809,
    "execution_millis": 8920047,
    "deepnote_cell_type": "code",
    "deepnote_cell_height": 279
   },
   "source": "def release_dp_histogram(x, epsilon, categories):\n    \"\"\"Release an `epsilon`-DP estimate of the counts of each of the `categories`\"\"\"\n    sensitivity = 2\n    scale = sensitivity / epsilon\n\n    # create a {category: count} hashmap\n    counts = dict(zip(*np.unique(x, return_counts=True)))\n    # look up the count of each category, or zero if not exists\n    sensitive_histogram = np.array([counts.get(cat, 0) for cat in categories])\n\n    dp_histogram = sensitive_histogram + laplace(scale=scale, size=sensitive_histogram.shape)\n    return dp_histogram",
   "execution_count": 2,
   "outputs": []
  },
  {
   "cell_type": "markdown",
   "source": "Here is a DP Median estimator we can make post-processing a released DP Histogram:",
   "metadata": {
    "cell_id": "6dcd62d37f1a4c33922a44e6cdaa6aa1",
    "tags": [],
    "deepnote_cell_type": "markdown",
    "deepnote_cell_height": 52
   }
  },
  {
   "cell_type": "code",
   "metadata": {
    "cell_id": "85dd17f8-6de1-4192-bcb8-b24fe6e405dd",
    "tags": [],
    "deepnote_to_be_reexecuted": false,
    "source_hash": "9f12f0e6",
    "execution_start": 1649948082810,
    "execution_millis": 8920047,
    "deepnote_cell_type": "code",
    "deepnote_cell_height": 423
   },
   "source": "def postprocess_quantile(categories, counts, q: float):\n    \"\"\"Postprocess a histogram release into a quantile estimate.\n\n    :param categories: ordered data of length t\n    :param counts: estimates of the counts of `categories`, of length t\n    :param q: proportion of entries to the left, ranging from [0, 1]\n    :return the category corresponding to the q-quantile of counts\"\"\"\n    # approximate the cdf via `counts`\n    cdf = np.cumsum(counts)\n    cdf /= cdf[-1]\n\n    return categories[np.argmax(cdf >= q)]\n\n\ndef release_dp_median_via_histogram(x, candidates, epsilon):\n    # release a DP estimate of the histogram \n    dp_counts = release_dp_histogram(x, epsilon=epsilon, categories=candidates)\n\n    # postprocess\n    return postprocess_quantile(candidates, dp_counts, q=0.5)",
   "execution_count": 3,
   "outputs": []
  },
  {
   "cell_type": "markdown",
   "source": "We can also release DP medians via the exponential mechanism:",
   "metadata": {
    "cell_id": "18931fa5-1439-4d3e-87bf-88f76dc54b77",
    "tags": [],
    "deepnote_cell_type": "markdown",
    "deepnote_cell_height": 52
   }
  },
  {
   "cell_type": "code",
   "metadata": {
    "tags": [],
    "cell_id": "00002-bd2ac737-ea7e-4cab-8d0b-4993c75aec19",
    "deepnote_to_be_reexecuted": false,
    "source_hash": "f777c99e",
    "execution_start": 1649948082855,
    "execution_millis": 8920091,
    "deepnote_cell_type": "code",
    "deepnote_cell_height": 603
   },
   "source": "def discrete_exponential_mechanism(x, candidates, epsilon, scorer, sensitivity, monotonic=False):\n    # score each candidate (can be more computationally efficient to score all at once)\n    scores = np.array([scorer(x, candidate) for candidate in candidates])\n\n    # for numerical stability; omitting this line results in the same probabilities\n    scores -= scores.max()\n\n    # compute likelihood of selecting each candidate\n    epsilon /= 1 if monotonic else 2\n    likelihoods = np.exp(epsilon * scores / sensitivity)\n\n    # normalize to a probability\n    probabilities = likelihoods / likelihoods.sum()\n\n    # select one candidate wrt the selection probabilities\n    return np.random.choice(a=candidates, p=probabilities)\n\n\ndef score_median(x, candidate):\n    \"\"\"Scores a candidate based on proximity to the median.\"\"\"\n    return min(sum(x <= candidate), sum(x >= candidate))\n\n\ndef release_dp_median_via_de(x, candidates, epsilon):\n    \"\"\"Release the dp median via the Discrete Exponential mechanism\"\"\"\n    # sensitivity is 1 regardless of if input metric is Hamming or Symmetric\n    return discrete_exponential_mechanism(x, candidates, epsilon,\n        scorer=score_median, \n        sensitivity=1)\n",
   "execution_count": 4,
   "outputs": []
  },
  {
   "cell_type": "markdown",
   "source": "Read in the data. We are using the familiar PUMS dataset we are familiar with, and focusing on the education variable, a 16 point scale. This time we are being more formal with how we handle the data. Type inference itself might release the existence of `bb` in the data, so we handle this case explicitly.",
   "metadata": {
    "tags": [],
    "cell_id": "00004-441a7e20-ce15-4f53-a360-444ae3e68fd1",
    "deepnote_cell_type": "markdown",
    "deepnote_cell_height": 96
   }
  },
  {
   "cell_type": "markdown",
   "source": "Excerpt from [2005 PUMS Data Dictionary](https://www2.census.gov/programs-surveys/acs/tech_docs/pums/data_dict/PUMSDataDict05.pdf#page=28).\n\n```\nSCHL 2  \nEducational attainment  \n\n\tbb .N/A (less than 3 years old)  \n\t01 .No school completed  \n\t02 .Nursery school to grade 4  \n\t03 .Grade 5 or grade 6  \n\t04 .Grade 7 or grade 8  \n\t05 .Grade 9  \n\t06 .Grade 10  \n\t07 .Grade 11  \n\t08 .Grade 12 no diploma  \n\t09 .High school graduate  \n\t10 .Some college, but less than 1 year  \n\t11 .One or more years of college, no degree  \n\t12 .Associate's degree  \n\t13 .Bachelor's degree  \n\t14 .Master's degree  \n\t15 .Professional school degree  \n\t16 .Doctorate degree\n```",
   "metadata": {
    "tags": [],
    "cell_id": "00003-57496a8b-702c-4ccf-a5b6-1837e97b7bf2",
    "deepnote_cell_type": "markdown",
    "deepnote_cell_height": 486
   }
  },
  {
   "cell_type": "code",
   "metadata": {
    "tags": [],
    "deepnote_to_be_reexecuted": false,
    "source_hash": "fe176500",
    "execution_start": 1649948082855,
    "execution_millis": 162,
    "cell_id": "00005-d016c58d-81f7-4f8c-b8b8-9e0f5fa70ebd",
    "deepnote_cell_type": "code",
    "deepnote_cell_height": 261
   },
   "source": "import pandas as pd\ndata = pd.read_csv(\n    \"https://raw.githubusercontent.com/opendp/cs208/main/spring2022/data/FultonPUMS5full.csv\",\n    # map 'bb' to 0 when parsing 'educ'\n    converters={'educ': lambda v: 0 if v == 'bb' else int(v)})\n\n# define public information\neduc_levels = list(range(17))  # inferred from codebook excerpt\neduc_bounds = (0, 16)\n\neduc = data['educ'].values",
   "execution_count": 5,
   "outputs": []
  },
  {
   "cell_type": "markdown",
   "source": "Let's call the mechanisms we've developed here:",
   "metadata": {
    "cell_id": "b19b7285ff1e4796a000497c9903a56d",
    "tags": [],
    "deepnote_cell_type": "markdown",
    "deepnote_cell_height": 52
   }
  },
  {
   "cell_type": "code",
   "metadata": {
    "cell_id": "3c1baf937edd4a0f89534c08eb3069ab",
    "tags": [],
    "deepnote_to_be_reexecuted": false,
    "source_hash": "694fa6e0",
    "execution_start": 1649948083018,
    "execution_millis": 25,
    "deepnote_cell_type": "code",
    "deepnote_cell_height": 194,
    "deepnote_output_heights": [
     97
    ]
   },
   "source": "release_dp_histogram(educ, epsilon=1., categories=educ_levels)",
   "execution_count": 6,
   "outputs": [
    {
     "output_type": "execute_result",
     "execution_count": 6,
     "data": {
      "text/plain": "array([-1.91923745e+00,  2.72560003e+02,  1.40733978e+02,  3.58691279e+02,\n        4.70641741e+02,  4.95786741e+02,  7.55814947e+02,  8.95851391e+02,\n        1.06496052e+03,  5.14978757e+03,  1.39533083e+03,  3.96400398e+03,\n        1.15591434e+03,  6.28510818e+03,  2.26839914e+03,  7.95261111e+02,\n        3.09012371e+02])"
     },
     "metadata": {}
    }
   ]
  },
  {
   "cell_type": "code",
   "metadata": {
    "cell_id": "0f5dfa8d-ec1f-4114-b6d7-d75abc16bc31",
    "tags": [],
    "deepnote_to_be_reexecuted": false,
    "source_hash": "9cc75dd0",
    "execution_start": 1649948083038,
    "execution_millis": 19,
    "deepnote_cell_type": "code",
    "deepnote_cell_height": 136,
    "deepnote_output_heights": [
     21
    ]
   },
   "source": "release_dp_median_via_histogram(\n    educ, candidates=educ_levels, epsilon=0.5)",
   "execution_count": 7,
   "outputs": [
    {
     "output_type": "execute_result",
     "execution_count": 7,
     "data": {
      "text/plain": "11"
     },
     "metadata": {}
    }
   ]
  },
  {
   "cell_type": "code",
   "metadata": {
    "cell_id": "b4927191-21d0-40ed-86fb-063e58796057",
    "tags": [],
    "deepnote_to_be_reexecuted": false,
    "source_hash": "78a7a44d",
    "execution_start": 1649948083058,
    "execution_millis": 5187,
    "deepnote_cell_type": "code",
    "deepnote_cell_height": 136,
    "deepnote_output_heights": [
     21
    ]
   },
   "source": "release_dp_median_via_de(\n    educ, candidates=educ_levels, epsilon=0.5)",
   "execution_count": 8,
   "outputs": [
    {
     "output_type": "execute_result",
     "execution_count": 8,
     "data": {
      "text/plain": "11"
     },
     "metadata": {}
    }
   ]
  },
  {
   "cell_type": "markdown",
   "source": "#### Show repeated releases on one sample of data",
   "metadata": {
    "tags": [],
    "cell_id": "00006-bad2b492-72fb-48cb-90da-e42026a4309d",
    "deepnote_cell_type": "markdown",
    "deepnote_cell_height": 54
   }
  },
  {
   "cell_type": "code",
   "metadata": {
    "tags": [],
    "deepnote_to_be_reexecuted": false,
    "source_hash": "f034f063",
    "execution_start": 1649948088012,
    "execution_millis": 2306,
    "cell_id": "00007-f3a9568a-6234-4463-9352-b85e72b89057",
    "deepnote_cell_type": "code",
    "deepnote_cell_height": 261
   },
   "source": "x = bootstrap(educ, 150)\nn_sims = 100\nepsilon = 0.4\n\nhistory_hist = []\nhistory_e_de = []\nfor i in range(n_sims):\n\thistory_hist.append(release_dp_median_via_histogram(\n\t\tx=x, candidates=educ_levels, epsilon=epsilon))\n\thistory_e_de.append(release_dp_median_via_de(\n\t\tx=x, candidates=educ_levels, epsilon=epsilon))",
   "execution_count": 9,
   "outputs": []
  },
  {
   "cell_type": "markdown",
   "source": "Now we'll compare.  We can see both give the correct median as the modal release, but the utility of the exponential mechanism is greater (lower chance of wrong answer, or MSE) than for the histogram based approach.",
   "metadata": {
    "cell_id": "7f3028c7e92e485b938197420723dbe7",
    "tags": [],
    "deepnote_cell_type": "markdown",
    "deepnote_cell_height": 74
   }
  },
  {
   "cell_type": "code",
   "metadata": {
    "tags": [],
    "deepnote_to_be_reexecuted": false,
    "source_hash": "52d684ef",
    "execution_start": 1649948090318,
    "execution_millis": 3338,
    "cell_id": "00008-bb521a56-78a1-436c-912a-0794a33e05ae",
    "deepnote_cell_type": "code",
    "deepnote_cell_height": 1082,
    "deepnote_output_heights": [
     607,
     592
    ]
   },
   "source": "import matplotlib.pyplot as plt\n\nfig, (\n    (ax_data, _), \n    (ax_hist, ax_e_de)\n) = plt.subplots(nrows=2, ncols=2, figsize=(9, 10), sharex=True)\n\nax_data.set_title(\"all data\")\nax_data.hist(educ, bins=educ_levels)\n# also show true sample median, centered in the bin\nax_data.axvline(x=np.median(x) + 0.5, color=\"r\")\n\nax_hist.set_title(\"postprocess histogram median\")\nax_hist.hist(history_hist, bins=educ_levels)\n\nax_e_de.set_title(\"discrete exponential mechanism median\")\nax_e_de.hist(history_e_de, bins=educ_levels)\n\nax_hist.set_xlabel(\"educ_levels\")\nax_e_de.set_xlabel(\"educ_levels\")\n\nplt.show()",
   "execution_count": 10,
   "outputs": [
    {
     "data": {
      "text/plain": "<Figure size 648x720 with 4 Axes>",
      "image/png": "[encoded data removed]"
     },
     "metadata": {
      "needs_background": "light",
      "image/png": {
       "width": 557,
       "height": 605
      }
     },
     "output_type": "display_data"
    }
   ]
  },
  {
   "cell_type": "markdown",
   "source": "<a style='text-decoration:none;line-height:16px;display:flex;color:#5B5B62;padding:10px;justify-content:end;' href='https://deepnote.com?utm_source=created-in-deepnote-cell&projectId=0df97151-1c38-49bc-a037-2a058b96fd82' target=\"_blank\">\n<img alt='Created in deepnote.com' style='display:inline;max-height:16px;margin:0px;margin-right:7.5px;' src='data:image/svg+xml;base64,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' > </img>\nCreated in <span style='font-weight:600;margin-left:4px;'>Deepnote</span></a>",
   "metadata": {
    "tags": [],
    "created_in_deepnote_cell": true,
    "deepnote_cell_type": "markdown"
   }
  }
 ],
 "nbformat": 4,
 "nbformat_minor": 2,
 "metadata": {
  "orig_nbformat": 2,
  "deepnote": {
   "is_reactive": false
  },
  "deepnote_notebook_id": "ce098610-1859-4938-b52d-16c96a7214d7",
  "deepnote_execution_queue": []
 }
}