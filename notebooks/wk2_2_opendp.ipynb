{
 "cells": [
  {
   "cell_type": "markdown",
   "source": "### OpenDP",
   "metadata": {
    "tags": [],
    "is_collapsed": false,
    "cell_id": "00014-0bdf13d4-f9dd-48a8-a1ae-d79330e1d2b1",
    "owner_user_id": "626e04f9-1867-484e-ab97-aee98b9bd886",
    "deepnote_cell_type": "text-cell-h3"
   }
  },
  {
   "cell_type": "markdown",
   "source": "The OpenDP Project is a community effort to build trustworthy, open source software tools for analysis of private data. The core software of the OpenDP Project is the OpenDP Library.\n\nThe OpenDP Library is a modular collection of statistical algorithms that adhere to differential privacy. The library is based on a conceptual framework described in [A Programming Framework for OpenDP](https://projects.iq.harvard.edu/files/opendp/files/opendp_programming_framework_11may2020_1_01.pdf).\n\nThe OpenDP Library can be found on GitHub: https://github.com/opendp/opendp/",
   "metadata": {
    "tags": [],
    "cell_id": "00015-7b45c1b0-8e85-4774-b668-e86f8b976fcf",
    "deepnote_cell_type": "markdown",
    "deepnote_cell_height": 168
   }
  },
  {
   "cell_type": "code",
   "metadata": {
    "tags": [],
    "deepnote_to_be_reexecuted": false,
    "source_hash": "a5c5ff14",
    "execution_start": 1644513817349,
    "execution_millis": 3,
    "cell_id": "00016-8fba88ff-7e5a-40c9-9043-1cbcfc70a4e7",
    "deepnote_cell_type": "code",
    "deepnote_cell_height": 153
   },
   "source": "from opendp.meas import *\nfrom opendp.trans import *\nfrom opendp.typing import *\nfrom opendp.mod import enable_features, Transformation, Measurement\nenable_features(\"contrib\", \"floating-point\")",
   "execution_count": null,
   "outputs": []
  },
  {
   "cell_type": "markdown",
   "source": "OpenDP represents computations with Transformations and Measurements.",
   "metadata": {
    "tags": [],
    "cell_id": "00017-fabc356f-0bb5-4f21-bb52-a6a3e0a2cdbb",
    "deepnote_cell_type": "markdown",
    "deepnote_cell_height": 52
   }
  },
  {
   "cell_type": "code",
   "metadata": {
    "tags": [],
    "deepnote_to_be_reexecuted": false,
    "source_hash": "57f3841b",
    "execution_start": 1644513817402,
    "execution_millis": 7,
    "cell_id": "00018-ba17c238-7cf4-428a-bbcd-bc1c9385baba",
    "deepnote_cell_type": "code",
    "deepnote_cell_height": 208,
    "deepnote_output_heights": [
     21
    ]
   },
   "source": "# create a measurement that simply adds laplace noise\nscale = 0.5\nbase_laplace: Measurement = make_base_laplace(scale=scale)\n\n# call the measurement like a function\nbase_laplace(arg=23.)",
   "execution_count": null,
   "outputs": [
    {
     "output_type": "execute_result",
     "execution_count": 8,
     "data": {
      "text/plain": "23.1796400888379"
     },
     "metadata": {}
    }
   ]
  },
  {
   "cell_type": "code",
   "metadata": {
    "tags": [],
    "deepnote_to_be_reexecuted": false,
    "source_hash": "1c33d2f0",
    "execution_start": 1644513817403,
    "execution_millis": 6,
    "cell_id": "00019-1420575c-de0f-4af7-9cdb-c0ce274f3631",
    "deepnote_cell_type": "code",
    "deepnote_cell_height": 190,
    "deepnote_output_heights": [
     21
    ]
   },
   "source": "# create a mean transformation\nsized_bounded_mean: Transformation = make_sized_bounded_mean(size=n, bounds=educ_bounds)\n\n# call the transformation like a function\nsized_bounded_mean(arg=educ)",
   "execution_count": null,
   "outputs": [
    {
     "output_type": "execute_result",
     "execution_count": 9,
     "data": {
      "text/plain": "10.608553908251183"
     },
     "metadata": {}
    }
   ]
  },
  {
   "cell_type": "markdown",
   "source": "We can also _chain_ transformations and measurements. You might already think of chaining as function composition. The reason why we call it \"chaining,\" instead of \"composition,\" is because composition has a special meaning in differential privacy. In the context of differential privacy, composition refers to the joint release of more than one measurement.",
   "metadata": {
    "tags": [],
    "cell_id": "00020-ff7dba6c-5597-4e80-9e98-c156165123ad",
    "deepnote_cell_type": "markdown",
    "deepnote_cell_height": 96
   }
  },
  {
   "cell_type": "code",
   "metadata": {
    "tags": [],
    "deepnote_to_be_reexecuted": false,
    "source_hash": "5a1ddaa1",
    "execution_start": 1644513817404,
    "execution_millis": 55,
    "cell_id": "00021-e1aa6f6e-f110-4ac8-bc8f-6195fc364bae",
    "deepnote_cell_type": "code",
    "deepnote_cell_height": 190,
    "deepnote_output_heights": [
     21
    ]
   },
   "source": "# chain with the base_laplace measurement\ndp_mean: Measurement = sized_bounded_mean >> base_laplace\n\n# release a dp mean\ndp_mean(arg=educ)",
   "execution_count": null,
   "outputs": [
    {
     "output_type": "execute_result",
     "execution_count": 10,
     "data": {
      "text/plain": "11.061892449178133"
     },
     "metadata": {}
    }
   ]
  },
  {
   "cell_type": "markdown",
   "source": "Now that we've shown how to build up computations and execute them, lets talk about distances.\n\nTransformations and Measurements relate distances. There are three kinds of distances:\n\n1. Dataset distances  \n    (greatest distance between neighboring datasets)\n1. Sensitivities  \n    (greatest distance between queries on neighboring datasets)\n1. Privacy budget    \n    (greatest distance between the probability distributions)\n\nThe following shows how the `base_laplace` measurement relates a `sensitivity` to a privacy budget, `epsilon`.\n",
   "metadata": {
    "tags": [],
    "cell_id": "00022-2d1b910e-8b14-4322-9d11-63fc941df920",
    "deepnote_cell_type": "markdown",
    "deepnote_cell_height": 276
   }
  },
  {
   "cell_type": "code",
   "metadata": {
    "tags": [],
    "deepnote_to_be_reexecuted": false,
    "source_hash": "823f5a09",
    "execution_start": 1644513817455,
    "execution_millis": 5,
    "cell_id": "00023-9b6e863e-edbe-4942-82f6-4c2021ec67f2",
    "deepnote_cell_type": "code",
    "deepnote_cell_height": 136,
    "deepnote_output_heights": [
     21
    ]
   },
   "source": "# Check that when sensitivity is 0.15, the privacy usage is .30\nbase_laplace.check(d_in=.15, d_out=.30)",
   "execution_count": null,
   "outputs": [
    {
     "output_type": "execute_result",
     "execution_count": 11,
     "data": {
      "text/plain": "True"
     },
     "metadata": {}
    }
   ]
  },
  {
   "cell_type": "markdown",
   "source": "We can interpret this as: If the sensitivity is .15, then we could release the query answer with `laplace(scale=.5)` noise at a privacy expenditure of `.3 epsilon`. Equivalently, this data release is `.3 differentially private`, or `.3-DP`, where the privacy units are implicitly in terms of epsilon.\n\nIf we were to increase the sensitivity, the same relation would fail, and the release would not be `.3-DP`.",
   "metadata": {
    "tags": [],
    "cell_id": "00024-b216f330-e525-4a52-a2a0-94f790e907d0",
    "deepnote_cell_type": "markdown",
    "deepnote_cell_height": 132
   }
  },
  {
   "cell_type": "code",
   "metadata": {
    "tags": [],
    "deepnote_to_be_reexecuted": false,
    "source_hash": "86625187",
    "execution_start": 1644513817455,
    "execution_millis": 1,
    "cell_id": "00025-c2577895-a8ea-4cae-ad58-60352b2cf430",
    "deepnote_cell_type": "code",
    "deepnote_cell_height": 118,
    "deepnote_output_heights": [
     21
    ]
   },
   "source": "base_laplace.check(d_in=.16, d_out=.3)",
   "execution_count": null,
   "outputs": [
    {
     "output_type": "execute_result",
     "execution_count": 12,
     "data": {
      "text/plain": "False"
     },
     "metadata": {}
    }
   ]
  },
  {
   "cell_type": "markdown",
   "source": "As you might expect, the relation will also pass for any sensitivity that is smaller, or any privacy expenditure that is larger. ",
   "metadata": {
    "tags": [],
    "cell_id": "00026-1409d751-56fe-443b-b3e9-bc32b4515bce",
    "deepnote_cell_type": "markdown",
    "deepnote_cell_height": 52
   }
  },
  {
   "cell_type": "code",
   "metadata": {
    "tags": [],
    "deepnote_to_be_reexecuted": false,
    "source_hash": "b673921c",
    "execution_start": 1644513817505,
    "execution_millis": 4,
    "cell_id": "00027-f44d1904-f6af-4e6a-b87d-c095a9613fee",
    "deepnote_cell_type": "code",
    "deepnote_cell_height": 150
   },
   "source": "print(base_laplace.check(d_in=.15, d_out=.31))\nprint(base_laplace.check(d_in=.14, d_out=.30))",
   "execution_count": null,
   "outputs": [
    {
     "name": "stdout",
     "text": "True\nTrue\n",
     "output_type": "stream"
    }
   ]
  },
  {
   "cell_type": "markdown",
   "source": "Similarly, the `sized_bounded_mean` transformation relates a dataset distance `max_influence` to a `sensitivity`.",
   "metadata": {
    "tags": [],
    "cell_id": "00028-c7233584-1f6a-4585-9b6b-8ba828dfd52b",
    "deepnote_cell_type": "markdown",
    "deepnote_cell_height": 52
   }
  },
  {
   "cell_type": "code",
   "metadata": {
    "tags": [],
    "deepnote_to_be_reexecuted": false,
    "source_hash": "1a327e6",
    "execution_start": 1644513817507,
    "execution_millis": 22028193,
    "cell_id": "00029-2ec9b820-525d-4a20-8e89-96a5518fba04",
    "deepnote_cell_type": "code",
    "deepnote_cell_height": 136,
    "deepnote_output_heights": [
     21
    ]
   },
   "source": "max_influence = 1 # the greatest number of records that an individual can influence\nsized_bounded_mean.check(d_in=max_influence, d_out=.15)",
   "execution_count": null,
   "outputs": [
    {
     "output_type": "execute_result",
     "execution_count": 14,
     "data": {
      "text/plain": "True"
     },
     "metadata": {}
    }
   ]
  },
  {
   "cell_type": "markdown",
   "source": "You can also relate distances on chained computations. The units for the input and output distances come from the constituent transformations and measurements. \n\nFor example, when we chain the `sized_bounded_mean` transformation and `base_laplace` measurement together, the input distance is a dataset distance, `max_influence`, and the output distance is measured in terms of a privacy budget, `epsilon`.",
   "metadata": {
    "tags": [],
    "cell_id": "00030-2ec61989-f125-4267-9230-780f5b1edfb6",
    "deepnote_cell_type": "markdown",
    "deepnote_cell_height": 154
   }
  },
  {
   "cell_type": "code",
   "metadata": {
    "tags": [],
    "deepnote_to_be_reexecuted": false,
    "source_hash": "647fbf9",
    "execution_start": 1644513817507,
    "execution_millis": 3,
    "cell_id": "00031-177e2631-9fa6-4ccf-82b6-c726901a24a4",
    "deepnote_cell_type": "code",
    "deepnote_cell_height": 136,
    "deepnote_output_heights": [
     21
    ]
   },
   "source": "# Check that when neighboring datasets differ by at most one record, the privacy usage is .3\ndp_mean.check(d_in=1, d_out=.3)",
   "execution_count": null,
   "outputs": [
    {
     "output_type": "execute_result",
     "execution_count": 15,
     "data": {
      "text/plain": "True"
     },
     "metadata": {}
    }
   ]
  },
  {
   "cell_type": "markdown",
   "source": "The `release_histogram` function behaves similarly to the `make_count_by_categories` function in OpenDP.",
   "metadata": {
    "tags": [],
    "cell_id": "00032-a9dfda83-37d7-4a6a-97a5-9f7533e11a0d",
    "deepnote_cell_type": "markdown",
    "deepnote_cell_height": 52
   }
  },
  {
   "cell_type": "code",
   "metadata": {
    "tags": [],
    "deepnote_to_be_reexecuted": false,
    "source_hash": "a35ec05f",
    "execution_start": 1644513817552,
    "execution_millis": 2,
    "cell_id": "00033-3a4dee27-a99b-4c75-9b12-62f41fdc5902",
    "deepnote_cell_type": "code",
    "deepnote_cell_height": 496
   },
   "source": "help(make_count_by_categories)",
   "execution_count": null,
   "outputs": [
    {
     "name": "stdout",
     "text": "Help on function make_count_by_categories in module opendp.trans:\n\nmake_count_by_categories(categories: Any, MO: opendp.typing.SensitivityMetric = 'L1Distance<i32>', TIA: Union[ForwardRef('RuntimeType'), _GenericAlias, str, Type[Union[List, Tuple, int, float, str, bool]], tuple] = None, TOA: Union[ForwardRef('RuntimeType'), _GenericAlias, str, Type[Union[List, Tuple, int, float, str, bool]], tuple] = 'i32') -> opendp.mod.Transformation\n    Make a Transformation that computes the number of times each category appears in the data. \n    This assumes that the category set is known.\n    \n    :param categories: The set of categories to compute counts for.\n    :type categories: Any\n    :param MO: output sensitivity metric\n    :type MO: SensitivityMetric\n    :param TIA: categorical/hashable input type. Input data must be Vec<TIA>.\n    :type TIA: RuntimeTypeDescriptor\n    :param TOA: express counts in terms of this numeric type\n    :type TOA: RuntimeTypeDescriptor\n    :return: A count_by_categories step.\n    :rtype: Transformation\n    :raises AssertionError: if an argument's type differs from the expected type\n    :raises UnknownTypeError: if a type-argument fails to parse\n    :raises OpenDPException: packaged error from the core OpenDP library\n\n",
     "output_type": "stream"
    }
   ]
  },
  {
   "cell_type": "code",
   "metadata": {
    "tags": [],
    "deepnote_to_be_reexecuted": false,
    "source_hash": "ed2be0d2",
    "execution_start": 1644513817553,
    "execution_millis": 44,
    "cell_id": "00034-2295da57-c9b4-45f9-a18a-13aff5b2ebaa",
    "deepnote_cell_type": "code",
    "deepnote_cell_height": 530,
    "deepnote_output_heights": [
     325
    ]
   },
   "source": "# release a histogram with laplace noise\ndp_histogram_laplace = (\n    make_count_by_categories(categories=educ_categories, TOA=float, MO=L1Distance[float]) >>\n    make_base_laplace(scale=1., D=VectorDomain[AllDomain[float]])\n)\ndp_histogram_laplace(educ.astype(np.int32))\n",
   "execution_count": null,
   "outputs": [
    {
     "output_type": "execute_result",
     "execution_count": 17,
     "data": {
      "text/plain": "[270.94759328916456,\n 143.0943752629504,\n 356.34345153044376,\n 467.5500935317367,\n 497.80218487415516,\n 755.5910417303638,\n 893.9578708926002,\n 1058.0116826037568,\n 5144.003182629482,\n 1395.3386035925798,\n 3968.4715173089767,\n 1154.9484668847808,\n 6283.353918674489,\n 2271.227934866608,\n 791.6482866565484,\n 308.2543824770269,\n -1.059484723088854]"
     },
     "metadata": {}
    }
   ]
  },
  {
   "cell_type": "markdown",
   "source": "In practice, it's more secure to chain with the geometric mechanism:",
   "metadata": {
    "tags": [],
    "cell_id": "00035-03a1a4f9-fa5e-488a-8f0f-e3e7e816740c",
    "deepnote_cell_type": "markdown",
    "deepnote_cell_height": 52
   }
  },
  {
   "cell_type": "code",
   "metadata": {
    "tags": [],
    "deepnote_to_be_reexecuted": false,
    "source_hash": "c8215818",
    "execution_start": 1644513817594,
    "execution_millis": 4,
    "cell_id": "00036-f11b8077-50d5-4cd0-94c6-c716e27b83a2",
    "deepnote_cell_type": "code",
    "deepnote_cell_height": 512,
    "deepnote_output_heights": [
     325
    ]
   },
   "source": "# release a histogram with geometric noise\ndp_histogram_geometric = (\n    make_count_by_categories(categories=educ_categories) >>\n    make_base_geometric(scale=1., D=VectorDomain[AllDomain[int]])\n)\ndp_histogram_geometric(educ.astype(np.int32))",
   "execution_count": null,
   "outputs": [
    {
     "output_type": "execute_result",
     "execution_count": 18,
     "data": {
      "text/plain": "[272,\n 140,\n 357,\n 470,\n 495,\n 759,\n 892,\n 1059,\n 5147,\n 1393,\n 3963,\n 1155,\n 6282,\n 2265,\n 797,\n 309,\n -1]"
     },
     "metadata": {}
    }
   ]
  },
  {
   "cell_type": "code",
   "metadata": {
    "tags": [],
    "deepnote_to_be_reexecuted": false,
    "source_hash": "b623e53d",
    "execution_start": 1644513817596,
    "execution_millis": 0,
    "cell_id": "00037-21497718-0244-4d05-9a66-01071680b78e",
    "deepnote_cell_type": "code",
    "deepnote_cell_height": 81
   },
   "source": "",
   "execution_count": null,
   "outputs": []
  },
  {
   "cell_type": "markdown",
   "source": "<a style='text-decoration:none;line-height:16px;display:flex;color:#5B5B62;padding:10px;justify-content:end;' href='https://deepnote.com?utm_source=created-in-deepnote-cell&projectId=0df97151-1c38-49bc-a037-2a058b96fd82' target=\"_blank\">\n<img alt='Created in deepnote.com' style='display:inline;max-height:16px;margin:0px;margin-right:7.5px;' src='data:image/svg+xml;base64,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' > </img>\nCreated in <span style='font-weight:600;margin-left:4px;'>Deepnote</span></a>",
   "metadata": {
    "tags": [],
    "created_in_deepnote_cell": true,
    "deepnote_cell_type": "markdown"
   }
  }
 ],
 "nbformat": 4,
 "nbformat_minor": 2,
 "metadata": {
  "orig_nbformat": 2,
  "deepnote": {
   "is_reactive": false
  },
  "deepnote_notebook_id": "d72f1705-b7e3-4c34-90d4-06fc30c9306e",
  "deepnote_execution_queue": []
 }
}