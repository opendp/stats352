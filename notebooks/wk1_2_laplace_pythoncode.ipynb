{
 "cells": [
  {
   "cell_type": "markdown",
   "metadata": {
    "cell_id": "f4f70b2e-6591-44d7-af1d-8b49d252be76",
    "deepnote_cell_type": "text-cell-h3",
    "is_collapsed": false,
    "tags": []
   },
   "source": [
    "### Laplace Mechanism for Differential Privacy"
   ]
  },
  {
   "cell_type": "markdown",
   "metadata": {
    "cell_id": "d8eabdba-b9bc-4b89-821a-3139ca1a5f0c",
    "deepnote_cell_type": "text-cell-p",
    "is_collapsed": false,
    "tags": []
   },
   "source": [
    "Here we construct the basic building blocks for a Laplace mechanism, a random sampler from the distribution, a clamp/clip/censor function, the function for the true mean, and then the DP release algorithm itself."
   ]
  },
  {
   "cell_type": "code",
   "execution_count": 20,
   "metadata": {
    "cell_id": "b0f965e5-dd06-4487-a59c-f2f2db689f37",
    "deepnote_cell_type": "code",
    "deepnote_output_heights": [
     79
    ],
    "deepnote_to_be_reexecuted": false,
    "execution_millis": 0,
    "execution_start": 1644491773219,
    "source_hash": "fae5b327",
    "tags": []
   },
   "outputs": [],
   "source": [
    "import numpy as np\n",
    "\n",
    "def laplace(shift=0., scale=1., size=None):\n",
    "    \"\"\"Sample from the laplace distribution.\"\"\"\n",
    "    p = np.random.uniform(low=-0.5, high=0.5, size=size)\n",
    "    draws = shift - scale * np.sign(p) * np.log(1 - 2 * abs(p))\n",
    "    return draws\n",
    "\n",
    "    # the easy way\n",
    "    # return np.random.laplace(loc=shift, scale=scale, size=size)\n",
    "\n",
    "\n",
    "def clamp(x, bounds):\n",
    "    \"\"\"Replace any x_i less than lower with lower, \n",
    "           and any x_i greater than upper with upper.\"\"\"\n",
    "    lower, upper = bounds\n",
    "    x_clamped = x.copy()\n",
    "    x_clamped[x<lower] = lower\n",
    "    x_clamped[x>upper] = upper\n",
    "    return x_clamped\n",
    "\n",
    "    # the easy way\n",
    "    # return np.clip(x, *bounds)\n",
    "\n",
    "\n",
    "def bounded_mean(x, bounds):\n",
    "   # lower = min(x)\n",
    "   # upper = max(x)\n",
    "   # bounds = (lower, upper)\n",
    "\n",
    "    x_clamped = clamp(x, bounds)\n",
    "    bounded_mean = np.mean(x_clamped)\n",
    "    return bounded_mean\n",
    "\n",
    "    # the easy way\n",
    "    # return np.mean(clamp(x,bounds))\n",
    "\n",
    "\n",
    "def release_dp_mean(x, bounds, epsilon):\n",
    "    \"\"\"Release a DP mean. \n",
    "    Assumes that the dataset size n is public information.\n",
    "    \"\"\"\n",
    "\n",
    "    # privatize\n",
    "    n = len(x)\n",
    "    lower, upper = bounds\n",
    "    sensitivity = 1 #Correct this\n",
    "    scale = sensitivity/epsilon\n",
    "    \n",
    "    sensitive_answer = np.mean(x) #Correct this\n",
    "    \n",
    "    dp_mean = sensitive_answer #Correct this\n",
    "    return dp_mean\n",
    "\n",
    "    # the compact way\n",
    "    # return laplace(shift=mean(x_clamped(x)), scale=(upper-lower)/(n*epsilon))\n",
    "    "
   ]
  },
  {
   "cell_type": "markdown",
   "metadata": {
    "cell_id": "cad0ed5c-7494-446e-a0b5-e81cf4ceafbd",
    "deepnote_cell_type": "text-cell-p",
    "is_collapsed": false,
    "tags": []
   },
   "source": [
    "Read in the data.  We're going to use the PUMS dataset we are familiar with, and focus on the education variable, a 16 point scale."
   ]
  },
  {
   "cell_type": "code",
   "execution_count": 21,
   "metadata": {
    "cell_id": "90cb5331-7ad7-4c5d-ba59-f22254ad8128",
    "deepnote_cell_type": "code",
    "deepnote_to_be_reexecuted": false,
    "execution_millis": 179,
    "execution_start": 1644491773261,
    "source_hash": "af79b62e",
    "tags": []
   },
   "outputs": [
    {
     "name": "stdout",
     "output_type": "stream",
     "text": [
      "10.608117959331258\n"
     ]
    }
   ],
   "source": [
    "import pandas as pd\n",
    "data = pd.read_csv(\n",
    "    \"https://raw.githubusercontent.com/opendp/cs208/main/spring2022/data/FultonPUMS5full.csv\")\n",
    "\n",
    "# define public information\n",
    "n = len(data)            # in this case, dataset length is considered public, and is not protected\n",
    "educ_bounds = (1., 16.)  # easily guessable without looking at the data\n",
    "\n",
    "educ = data['educ'].values.astype(float)\n",
    "print(release_dp_mean(educ, bounds=educ_bounds, epsilon=1.))"
   ]
  },
  {
   "cell_type": "markdown",
   "metadata": {
    "cell_id": "ed10cd00-b971-4312-9a37-dfec3f3ea5e1",
    "deepnote_cell_type": "text-cell-p",
    "is_collapsed": false,
    "tags": []
   },
   "source": [
    "Now that we have a mechanism available, let's try a new one, the histogram.  Histograms give counts of the number of observations within defined partitions of the variable domain.  Consider carefully the sensitivity for the histogram, which depends on which definition of neighbouring we are using."
   ]
  },
  {
   "cell_type": "code",
   "execution_count": 22,
   "metadata": {
    "cell_id": "dba8bb7f-757e-47d9-8630-5d8510625a1e",
    "deepnote_cell_type": "code",
    "deepnote_to_be_reexecuted": false,
    "execution_millis": 6,
    "execution_start": 1644491773443,
    "source_hash": "3f98dbd0",
    "tags": []
   },
   "outputs": [],
   "source": [
    "def release_histogram(x, epsilon, categories):\n",
    "    sensitivity = 1\n",
    "    scale = sensitivity/epsilon\n",
    "    \n",
    "    # sensitive_histogram = np.histogram(x, bins=categories)[0]  # [0] is counts [1] is bins\n",
    "\n",
    "    # create a {category: count} hashmap\n",
    "    counts = dict(zip(*np.unique(x, return_counts=True)))\n",
    "    # look up the count of each category, or zero if not exists\n",
    "    sensitive_histogram = np.array([counts.get(cat, 0) for cat in categories])\n",
    "\n",
    "    dp_histogram = sensitive_histogram + laplace(scale=scale, size=sensitive_histogram.shape)\n",
    "    return dp_histogram\n"
   ]
  },
  {
   "cell_type": "markdown",
   "metadata": {
    "cell_id": "dbb8520e-5afe-4ac8-a484-7f0c213aa668",
    "deepnote_cell_type": "text-cell-p",
    "is_collapsed": false,
    "tags": []
   },
   "source": [
    "Let's call our privacy-preserving histogram."
   ]
  },
  {
   "cell_type": "code",
   "execution_count": 23,
   "metadata": {
    "cell_id": "0288a9e3-16e1-4bb6-aae0-7038e1ba3c40",
    "deepnote_cell_type": "code",
    "deepnote_to_be_reexecuted": false,
    "execution_millis": 5,
    "execution_start": 1644491773498,
    "source_hash": "52c03c51",
    "tags": []
   },
   "outputs": [
    {
     "name": "stdout",
     "output_type": "stream",
     "text": [
      "[ 271.72019772  142.10250425  354.98210784  472.09763625  494.65142247\n",
      "  756.22999901  893.33626885 1061.36836813 5148.87197531 1397.75766136\n",
      " 3963.05660778 1155.21456108 6283.64863454 2269.02718312  788.23854584\n",
      "  309.20092876]\n"
     ]
    }
   ],
   "source": [
    "educ_categories = list(range(1, 17))\n",
    "output = release_histogram(educ, epsilon=1., categories=educ_categories)\n",
    "\n",
    "print(output)"
   ]
  },
  {
   "cell_type": "markdown",
   "metadata": {
    "cell_id": "b92c36e8-c875-4ff2-bd83-dd0a2121797e",
    "deepnote_cell_type": "text-cell-p",
    "is_collapsed": false,
    "tags": []
   },
   "source": [
    "We're going to simulate repeated draws from the Laplace mechanism to examine the utility it offers over the range of epsilon values and dataset sizes, for our education variable.  "
   ]
  },
  {
   "cell_type": "markdown",
   "metadata": {
    "cell_id": "804ad7db-0c74-4d81-8891-3788d7fb7c8a",
    "deepnote_cell_type": "text-cell-p",
    "is_collapsed": false,
    "tags": []
   },
   "source": [
    "We'll need a way to construct new datasets, given we only have one available.  The (nonparametric) bootstrap function lets us construct datasets even larger than our original source data if needed, by treating the sample data as if it is a population from which we can resample."
   ]
  },
  {
   "cell_type": "code",
   "execution_count": 28,
   "metadata": {
    "cell_id": "3a69c9c0-6065-402e-ace6-b528ed70525d",
    "deepnote_cell_type": "code",
    "deepnote_output_heights": [
     79,
     194
    ],
    "deepnote_to_be_reexecuted": false,
    "execution_millis": 10789,
    "execution_start": 1644491773499,
    "source_hash": "e57d88c7",
    "tags": []
   },
   "outputs": [
    {
     "name": "stdout",
     "output_type": "stream",
     "text": [
      "[ 200  230  266  307  355  410  474  547  632  730  843  974 1124 1298\n",
      " 1500]\n",
      "[1.   0.56 0.31 0.17 0.1 ]\n"
     ]
    }
   ],
   "source": [
    "import math\n",
    "\n",
    "def bootstrap(x, n):\n",
    "    \"\"\"Sample n values with replacement from n.\"\"\"\n",
    "    index = np.random.randint(low=0., high=len(x), size=n)\n",
    "    return x[index]\n",
    "\n",
    "    # the easy way\n",
    "    # return np.random.choice(x, size=n)\n",
    "\n",
    "\n",
    "n_sims = 1000\n",
    "\n",
    "log_seq = np.linspace(start=math.log10(200), stop=math.log10(1500), num=15)\n",
    "n_seq = (10**log_seq).astype(int)\n",
    "print(n_seq)\n",
    "\n",
    "\n",
    "log_seq = np.linspace(start=math.log10(1), stop=math.log10(0.1), num=5)\n",
    "ep_seq = (10**log_seq *100).astype(int)/100\n",
    "print(ep_seq)\n",
    "\n",
    "agg_history = []\n",
    "\n",
    "aggcount = 0\n",
    "\n",
    "for i, n_sim in enumerate(n_seq):\n",
    "    for j, epsilon_sim in enumerate(ep_seq):\n",
    "        sq_error = 0\n",
    "\n",
    "        for k in range(n_sims):\n",
    "            bootdata = bootstrap(educ, n_sim)\n",
    "            sensitive_mean = bounded_mean(x=bootdata, bounds=educ_bounds)\n",
    "            dp_mean = release_dp_mean(x=bootdata, bounds=educ_bounds, epsilon=epsilon_sim)\n",
    "            sq_error += (dp_mean - sensitive_mean) ** 2\n",
    "\n",
    "        agg_history.append([\n",
    "            n_sim,\n",
    "            epsilon_sim,\n",
    "            np.sqrt(sq_error/n_sims)  #RMSE\n",
    "        ])\n",
    "        \n",
    "        aggcount += 1\n",
    "\n",
    "agg_history = pd.DataFrame(agg_history, columns=[\"N\", \"epsilon\", \"error\"])\n"
   ]
  },
  {
   "cell_type": "markdown",
   "metadata": {
    "cell_id": "82033dcf-f361-4a48-9354-dcc02a79273c",
    "deepnote_cell_type": "text-cell-p",
    "is_collapsed": false,
    "tags": []
   },
   "source": [
    "Graphing our results is often a case of finding an approximate template and then tweaking it to convey the exact details of interest to your reader.  This template for showing the utility of DP releases will likely be commonly useful across your homeworks and project."
   ]
  },
  {
   "cell_type": "code",
   "execution_count": 30,
   "metadata": {
    "cell_id": "c49dc1f2-7f3c-45bc-8756-36c0dc1b07e9",
    "deepnote_cell_type": "code",
    "deepnote_output_heights": [
     269
    ],
    "deepnote_to_be_reexecuted": false,
    "execution_millis": 3402,
    "execution_start": 1644493068821,
    "source_hash": "8f038ee7",
    "tags": []
   },
   "outputs": [
    {
     "data": {
      "image/png": "[encoded data removed]",
      "text/plain": [
       "<Figure size 864x288 with 3 Axes>"
      ]
     },
     "metadata": {
      "needs_background": "light"
     },
     "output_type": "display_data"
    }
   ],
   "source": [
    "\n",
    "import matplotlib\n",
    "import matplotlib.pyplot as plt\n",
    "\n",
    "fig, axs = plt.subplots(ncols=3, figsize=(12,4)) \n",
    "\n",
    "axs[0].set_ylabel(\"RMSE\")\n",
    "axs[1].set_yscale(\"log\")\n",
    "axs[2].set_xscale(\"log\")\n",
    "axs[2].set_yscale(\"log\")\n",
    "\n",
    "for epsilon_sim, subhistory in agg_history.groupby(\"epsilon\"):\n",
    "    for ax in axs:\n",
    "        subhistory.plot(x=\"N\", y=\"error\", label=epsilon_sim, ax=ax, legend=None)\n",
    "\n",
    "## Overlay the standard error of the mean\n",
    "se = np.std(educ) / np.sqrt(n_seq)\n",
    "axs[1].plot(n_seq, se, linestyle='dashed', color=\"red\")\n",
    "\n",
    "_ = fig.legend(*axs[0].get_legend_handles_labels(), loc=(0.57, 0.68))\n"
   ]
  }
 ],
 "metadata": {
  "deepnote": {
   "is_reactive": false
  },
  "deepnote_execution_queue": [],
  "deepnote_notebook_id": "087203e9-d4cc-4fd7-82c2-18d93d97386d",
  "kernelspec": {
   "display_name": "Python 3",
   "language": "python",
   "name": "python3"
  },
  "language_info": {
   "codemirror_mode": {
    "name": "ipython",
    "version": 3
   },
   "file_extension": ".py",
   "mimetype": "text/x-python",
   "name": "python",
   "nbconvert_exporter": "python",
   "pygments_lexer": "ipython3",
   "version": "3.7.1"
  }
 },
 "nbformat": 4,
 "nbformat_minor": 2
}
